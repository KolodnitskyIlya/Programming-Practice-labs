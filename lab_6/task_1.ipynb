{
 "cells": [
  {
   "cell_type": "markdown",
   "id": "2d9347d8",
   "metadata": {},
   "source": [
    "Функция поиска подстроки в строке"
   ]
  },
  {
   "cell_type": "code",
   "execution_count": 1,
   "id": "920a0608",
   "metadata": {},
   "outputs": [],
   "source": [
    "def find_substring_positions(text, sub):\n",
    "    positions = []\n",
    "    index = 0\n",
    "    while index < len(text):\n",
    "        pos = text.find(sub, index)\n",
    "        if pos == -1:\n",
    "            break\n",
    "        positions.append(pos)\n",
    "        index = pos + 1\n",
    "    return positions"
   ]
  },
  {
   "cell_type": "code",
   "execution_count": 2,
   "id": "4504b926",
   "metadata": {},
   "outputs": [
    {
     "name": "stdout",
     "output_type": "stream",
     "text": [
      "[0, 12]\n",
      "[0, 2]\n"
     ]
    }
   ],
   "source": [
    "print(find_substring_positions(\"hello world hello\", \"hello\"))\n",
    "print(find_substring_positions(\"ababab\", \"aba\")) "
   ]
  },
  {
   "cell_type": "markdown",
   "id": "08e7cc06",
   "metadata": {},
   "source": [
    "Функция вычисления среднего значения через args"
   ]
  },
  {
   "cell_type": "code",
   "execution_count": 3,
   "id": "c7d36cf9",
   "metadata": {},
   "outputs": [],
   "source": [
    "def average_value(*numbers):\n",
    "    if not numbers:\n",
    "        return 0\n",
    "    return sum(numbers) / len(numbers)"
   ]
  },
  {
   "cell_type": "code",
   "execution_count": 4,
   "id": "e94c62f7",
   "metadata": {},
   "outputs": [
    {
     "name": "stdout",
     "output_type": "stream",
     "text": [
      "2.5\n",
      "0\n"
     ]
    }
   ],
   "source": [
    "print(average_value(1, 2, 3, 4))\n",
    "print(average_value())"
   ]
  },
  {
   "cell_type": "markdown",
   "id": "4ae12ff8",
   "metadata": {},
   "source": [
    "Функция суммирования списков из словаря"
   ]
  },
  {
   "cell_type": "code",
   "execution_count": 5,
   "id": "cb07cfd8",
   "metadata": {},
   "outputs": [],
   "source": [
    "def sum_dict_values(data):\n",
    "    return {key: sum(value) for key, value in data.items()}"
   ]
  },
  {
   "cell_type": "code",
   "execution_count": 6,
   "id": "70b09640",
   "metadata": {},
   "outputs": [
    {
     "name": "stdout",
     "output_type": "stream",
     "text": [
      "{'a': 6, 'b': 15}\n"
     ]
    }
   ],
   "source": [
    "print(sum_dict_values({'a': [1, 2, 3], 'b': [4, 5, 6]}))"
   ]
  }
 ],
 "metadata": {
  "kernelspec": {
   "display_name": "Python 3",
   "language": "python",
   "name": "python3"
  },
  "language_info": {
   "codemirror_mode": {
    "name": "ipython",
    "version": 3
   },
   "file_extension": ".py",
   "mimetype": "text/x-python",
   "name": "python",
   "nbconvert_exporter": "python",
   "pygments_lexer": "ipython3",
   "version": "3.9.6"
  }
 },
 "nbformat": 4,
 "nbformat_minor": 5
}
