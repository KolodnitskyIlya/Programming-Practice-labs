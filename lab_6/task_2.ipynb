{
 "cells": [
  {
   "cell_type": "markdown",
   "id": "c6a6f15e",
   "metadata": {},
   "source": [
    "Рекурсивная проверка палиндрома"
   ]
  },
  {
   "cell_type": "code",
   "execution_count": 1,
   "id": "bc22f6ad",
   "metadata": {},
   "outputs": [],
   "source": [
    "def is_palindrome(s):\n",
    "    cleaned = ''.join(c.lower() for c in s if c.isalpha())\n",
    "    if len(cleaned) <= 1:\n",
    "        return True\n",
    "    if cleaned[0] != cleaned[-1]:\n",
    "        return False\n",
    "    return is_palindrome(cleaned[1:-1])"
   ]
  },
  {
   "cell_type": "code",
   "execution_count": 2,
   "id": "7aac5153",
   "metadata": {},
   "outputs": [
    {
     "name": "stdout",
     "output_type": "stream",
     "text": [
      "True\n",
      "True\n",
      "False\n"
     ]
    }
   ],
   "source": [
    "print(is_palindrome(\"А роза упала на лапу Азора\"))\n",
    "print(is_palindrome(\"Was it a car or a cat I saw?\"))\n",
    "print(is_palindrome(\"hello\"))"
   ]
  },
  {
   "cell_type": "markdown",
   "id": "de06c2fe",
   "metadata": {},
   "source": [
    "Рекурсивное удаление гласных из строки"
   ]
  },
  {
   "cell_type": "code",
   "execution_count": 4,
   "id": "0ef9a3be",
   "metadata": {},
   "outputs": [],
   "source": [
    "def remove_vowels(s):\n",
    "    vowels = \"aeiouAEIOUаеёиоуыэюяАЕЁИОУЫЭЮЯ\"\n",
    "    if not s:\n",
    "        return \"\"\n",
    "    if s[0] in vowels:\n",
    "        return remove_vowels(s[1:])\n",
    "    return s[0] + remove_vowels(s[1:])"
   ]
  },
  {
   "cell_type": "code",
   "execution_count": 5,
   "id": "592ea7f5",
   "metadata": {},
   "outputs": [
    {
     "name": "stdout",
     "output_type": "stream",
     "text": [
      "Hll, Wrld!\n",
      "Првт, мр!\n"
     ]
    }
   ],
   "source": [
    "print(remove_vowels(\"Hello, World!\"))\n",
    "print(remove_vowels(\"Привет, мир!\"))"
   ]
  },
  {
   "cell_type": "markdown",
   "id": "d33dee26",
   "metadata": {},
   "source": [
    "Рекурсивный подсчёт вхождений символа в строке"
   ]
  },
  {
   "cell_type": "code",
   "execution_count": 6,
   "id": "b3ea9e3a",
   "metadata": {},
   "outputs": [],
   "source": [
    "def count_char(s, ch):\n",
    "    if not s:\n",
    "        return 0\n",
    "    return (1 if s[0] == ch else 0) + count_char(s[1:], ch)"
   ]
  },
  {
   "cell_type": "code",
   "execution_count": 7,
   "id": "ec59e0d9",
   "metadata": {},
   "outputs": [
    {
     "name": "stdout",
     "output_type": "stream",
     "text": [
      "2\n",
      "5\n"
     ]
    }
   ],
   "source": [
    "print(count_char(\"hello\", \"l\"))\n",
    "print(count_char(\"abracadabra\", \"a\"))"
   ]
  }
 ],
 "metadata": {
  "kernelspec": {
   "display_name": "Python 3",
   "language": "python",
   "name": "python3"
  },
  "language_info": {
   "codemirror_mode": {
    "name": "ipython",
    "version": 3
   },
   "file_extension": ".py",
   "mimetype": "text/x-python",
   "name": "python",
   "nbconvert_exporter": "python",
   "pygments_lexer": "ipython3",
   "version": "3.9.6"
  }
 },
 "nbformat": 4,
 "nbformat_minor": 5
}
