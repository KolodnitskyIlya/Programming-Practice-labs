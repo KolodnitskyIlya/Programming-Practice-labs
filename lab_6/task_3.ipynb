{
 "cells": [
  {
   "cell_type": "markdown",
   "id": "4164be85",
   "metadata": {},
   "source": [
    "Функция «apply_twice»"
   ]
  },
  {
   "cell_type": "code",
   "execution_count": 1,
   "id": "ee0b3b22",
   "metadata": {},
   "outputs": [],
   "source": [
    "def apply_twice(f, x):\n",
    "    return f(f(x))"
   ]
  },
  {
   "cell_type": "code",
   "execution_count": 2,
   "id": "b53c43aa",
   "metadata": {},
   "outputs": [
    {
     "name": "stdout",
     "output_type": "stream",
     "text": [
      "10\n"
     ]
    }
   ],
   "source": [
    "def add_three(x):\n",
    "    return x + 3\n",
    "\n",
    "print(apply_twice(add_three, 4))"
   ]
  },
  {
   "cell_type": "markdown",
   "id": "c4ba8b65",
   "metadata": {},
   "source": [
    "Пользовательский map"
   ]
  },
  {
   "cell_type": "code",
   "execution_count": 3,
   "id": "a586b0d0",
   "metadata": {},
   "outputs": [],
   "source": [
    "def custom_map(func, iterable):\n",
    "    result = []\n",
    "    for item in iterable:\n",
    "        result.append(func(item))\n",
    "    return result"
   ]
  },
  {
   "cell_type": "code",
   "execution_count": 4,
   "id": "a8b77b52",
   "metadata": {},
   "outputs": [
    {
     "name": "stdout",
     "output_type": "stream",
     "text": [
      "[2, 4, 6, 8]\n"
     ]
    }
   ],
   "source": [
    "numbers = [1, 2, 3, 4]\n",
    "print(custom_map(lambda x: x * 2, numbers))"
   ]
  },
  {
   "cell_type": "markdown",
   "id": "8f83b5b3",
   "metadata": {},
   "source": [
    "Пользовательский filter с опцией инверсии"
   ]
  },
  {
   "cell_type": "code",
   "execution_count": 7,
   "id": "04957dde",
   "metadata": {},
   "outputs": [],
   "source": [
    "def custom_filter(predicate, iterable, invert=False):\n",
    "    result = []\n",
    "    for item in iterable:\n",
    "        if (not invert and predicate(item)) or (invert and not predicate(item)):\n",
    "            result.append(item)\n",
    "    return result"
   ]
  },
  {
   "cell_type": "code",
   "execution_count": 8,
   "id": "5fab02b8",
   "metadata": {},
   "outputs": [
    {
     "name": "stdout",
     "output_type": "stream",
     "text": [
      "['apple', 'banana', 'cherry']\n",
      "['date']\n"
     ]
    }
   ],
   "source": [
    "words = [\"apple\", \"banana\", \"cherry\", \"date\"]\n",
    "print(custom_filter(lambda x: len(x) >= 5, words))\n",
    "print(custom_filter(lambda x: len(x) >= 5, words, invert=True)) "
   ]
  }
 ],
 "metadata": {
  "kernelspec": {
   "display_name": "Python 3",
   "language": "python",
   "name": "python3"
  },
  "language_info": {
   "codemirror_mode": {
    "name": "ipython",
    "version": 3
   },
   "file_extension": ".py",
   "mimetype": "text/x-python",
   "name": "python",
   "nbconvert_exporter": "python",
   "pygments_lexer": "ipython3",
   "version": "3.9.6"
  }
 },
 "nbformat": 4,
 "nbformat_minor": 5
}
