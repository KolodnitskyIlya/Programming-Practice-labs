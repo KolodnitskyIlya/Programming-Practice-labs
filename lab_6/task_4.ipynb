{
 "cells": [
  {
   "cell_type": "markdown",
   "id": "52140da7",
   "metadata": {},
   "source": [
    "Декоратор повторных попыток (retry)"
   ]
  },
  {
   "cell_type": "code",
   "execution_count": 11,
   "id": "acd36cb9",
   "metadata": {},
   "outputs": [
    {
     "name": "stdout",
     "output_type": "stream",
     "text": [
      "Попытка 1 из 3 не удалась: Случайная ошибка!\n",
      "Попытка 2 из 3 не удалась: Случайная ошибка!\n",
      "Успех!\n"
     ]
    }
   ],
   "source": [
    "import random\n",
    "\n",
    "def retry(n):\n",
    "    def decorator(func):\n",
    "        def wrapper(*args, **kwargs):\n",
    "            last_exception = None\n",
    "            for attempt in range(n):\n",
    "                try:\n",
    "                    return func(*args, **kwargs)\n",
    "                except Exception as e:\n",
    "                    last_exception = e\n",
    "                    print(f\"Попытка {attempt + 1} из {n} не удалась: {e}\")\n",
    "            raise last_exception\n",
    "        return wrapper\n",
    "    return decorator\n",
    "\n",
    "@retry(n=3)\n",
    "def risky_function():\n",
    "    if random.random() < 0.7:\n",
    "        raise ValueError(\"Случайная ошибка!\")\n",
    "    return \"Успех!\"\n",
    "\n",
    "print(risky_function())"
   ]
  },
  {
   "cell_type": "markdown",
   "id": "1d62e775",
   "metadata": {},
   "source": [
    "Декоратор логирования вызова функции (logger)"
   ]
  },
  {
   "cell_type": "code",
   "execution_count": 6,
   "id": "f7fe92a3",
   "metadata": {},
   "outputs": [
    {
     "name": "stdout",
     "output_type": "stream",
     "text": [
      "Вызов add(2, 3)\n",
      "add вернула: 5\n",
      "Вызов greet('Alice', greeting='Hi')\n",
      "greet вернула: 'Hi, Alice!'\n",
      "Вызов risky_divide(10, 0)\n",
      "risky_divide вызвала исключение: ZeroDivisionError('division by zero')\n"
     ]
    },
    {
     "ename": "ZeroDivisionError",
     "evalue": "division by zero",
     "output_type": "error",
     "traceback": [
      "\u001b[0;31m---------------------------------------------------------------------------\u001b[0m",
      "\u001b[0;31mZeroDivisionError\u001b[0m                         Traceback (most recent call last)",
      "Cell \u001b[0;32mIn[6], line 31\u001b[0m\n\u001b[1;32m     29\u001b[0m add(\u001b[38;5;241m2\u001b[39m, \u001b[38;5;241m3\u001b[39m)\n\u001b[1;32m     30\u001b[0m greet(\u001b[38;5;124m\"\u001b[39m\u001b[38;5;124mAlice\u001b[39m\u001b[38;5;124m\"\u001b[39m, greeting\u001b[38;5;241m=\u001b[39m\u001b[38;5;124m\"\u001b[39m\u001b[38;5;124mHi\u001b[39m\u001b[38;5;124m\"\u001b[39m)\n\u001b[0;32m---> 31\u001b[0m \u001b[43mrisky_divide\u001b[49m\u001b[43m(\u001b[49m\u001b[38;5;241;43m10\u001b[39;49m\u001b[43m,\u001b[49m\u001b[43m \u001b[49m\u001b[38;5;241;43m0\u001b[39;49m\u001b[43m)\u001b[49m\n",
      "Cell \u001b[0;32mIn[6], line 9\u001b[0m, in \u001b[0;36mlogger.<locals>.wrapper\u001b[0;34m(*args, **kwargs)\u001b[0m\n\u001b[1;32m      6\u001b[0m \u001b[38;5;28mprint\u001b[39m(\u001b[38;5;124mf\u001b[39m\u001b[38;5;124m\"\u001b[39m\u001b[38;5;124mВызов \u001b[39m\u001b[38;5;132;01m{\u001b[39;00mfunc\u001b[38;5;241m.\u001b[39m\u001b[38;5;18m__name__\u001b[39m\u001b[38;5;132;01m}\u001b[39;00m\u001b[38;5;124m(\u001b[39m\u001b[38;5;132;01m{\u001b[39;00msignature\u001b[38;5;132;01m}\u001b[39;00m\u001b[38;5;124m)\u001b[39m\u001b[38;5;124m\"\u001b[39m)\n\u001b[1;32m      8\u001b[0m \u001b[38;5;28;01mtry\u001b[39;00m:\n\u001b[0;32m----> 9\u001b[0m     result \u001b[38;5;241m=\u001b[39m \u001b[43mfunc\u001b[49m\u001b[43m(\u001b[49m\u001b[38;5;241;43m*\u001b[39;49m\u001b[43margs\u001b[49m\u001b[43m,\u001b[49m\u001b[43m \u001b[49m\u001b[38;5;241;43m*\u001b[39;49m\u001b[38;5;241;43m*\u001b[39;49m\u001b[43mkwargs\u001b[49m\u001b[43m)\u001b[49m\n\u001b[1;32m     10\u001b[0m     \u001b[38;5;28mprint\u001b[39m(\u001b[38;5;124mf\u001b[39m\u001b[38;5;124m\"\u001b[39m\u001b[38;5;132;01m{\u001b[39;00mfunc\u001b[38;5;241m.\u001b[39m\u001b[38;5;18m__name__\u001b[39m\u001b[38;5;132;01m}\u001b[39;00m\u001b[38;5;124m вернула: \u001b[39m\u001b[38;5;132;01m{\u001b[39;00m\u001b[38;5;28mrepr\u001b[39m(result)\u001b[38;5;132;01m}\u001b[39;00m\u001b[38;5;124m\"\u001b[39m)\n\u001b[1;32m     11\u001b[0m     \u001b[38;5;28;01mreturn\u001b[39;00m result\n",
      "Cell \u001b[0;32mIn[6], line 27\u001b[0m, in \u001b[0;36mrisky_divide\u001b[0;34m(x, y)\u001b[0m\n\u001b[1;32m     25\u001b[0m \u001b[38;5;129m@logger\u001b[39m\n\u001b[1;32m     26\u001b[0m \u001b[38;5;28;01mdef\u001b[39;00m \u001b[38;5;21mrisky_divide\u001b[39m(x, y):\n\u001b[0;32m---> 27\u001b[0m     \u001b[38;5;28;01mreturn\u001b[39;00m \u001b[43mx\u001b[49m\u001b[43m \u001b[49m\u001b[38;5;241;43m/\u001b[39;49m\u001b[43m \u001b[49m\u001b[43my\u001b[49m\n",
      "\u001b[0;31mZeroDivisionError\u001b[0m: division by zero"
     ]
    }
   ],
   "source": [
    "def logger(func):\n",
    "    def wrapper(*args, **kwargs):\n",
    "        args_repr = [repr(a) for a in args]\n",
    "        kwargs_repr = [f\"{k}={repr(v)}\" for k, v in kwargs.items()]\n",
    "        signature = \", \".join(args_repr + kwargs_repr)\n",
    "        print(f\"Вызов {func.__name__}({signature})\")\n",
    "\n",
    "        try:\n",
    "            result = func(*args, **kwargs)\n",
    "            print(f\"{func.__name__} вернула: {repr(result)}\")\n",
    "            return result\n",
    "        except Exception as e:\n",
    "            print(f\"{func.__name__} вызвала исключение: {repr(e)}\")\n",
    "            raise\n",
    "    return wrapper\n",
    "\n",
    "@logger\n",
    "def add(a, b):\n",
    "    return a + b\n",
    "\n",
    "@logger\n",
    "def greet(name, greeting=\"Hello\"):\n",
    "    return f\"{greeting}, {name}!\"\n",
    "\n",
    "@logger\n",
    "def risky_divide(x, y):\n",
    "    return x / y\n",
    "\n",
    "add(2, 3)\n",
    "greet(\"Alice\", greeting=\"Hi\")\n",
    "risky_divide(10, 0)"
   ]
  }
 ],
 "metadata": {
  "kernelspec": {
   "display_name": "Python 3",
   "language": "python",
   "name": "python3"
  },
  "language_info": {
   "codemirror_mode": {
    "name": "ipython",
    "version": 3
   },
   "file_extension": ".py",
   "mimetype": "text/x-python",
   "name": "python",
   "nbconvert_exporter": "python",
   "pygments_lexer": "ipython3",
   "version": "3.9.6"
  }
 },
 "nbformat": 4,
 "nbformat_minor": 5
}
